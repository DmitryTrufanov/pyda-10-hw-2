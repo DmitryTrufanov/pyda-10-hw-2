{
 "cells": [
  {
   "cell_type": "markdown",
   "metadata": {},
   "source": [
    "**Задание 1**. Даны 2 строки: *long_phrase* и *short_phrase*. \n",
    "Напишите код, который проверяет действительно ли длинная фраза *long_phrase* длиннее короткой *short_phrase*. И выводит *True* или *False* в зависимости от результата сравнения."
   ]
  },
  {
   "cell_type": "code",
   "execution_count": 1,
   "metadata": {},
   "outputs": [],
   "source": [
    "long_phrase = 'Насколько проще было бы писать программы, если бы не заказчики'\n",
    "short_phrase = '640Кб должно хватить для любых задач. Билл Гейтс (по легенде)'"
   ]
  },
  {
   "cell_type": "code",
   "execution_count": 2,
   "metadata": {},
   "outputs": [
    {
     "name": "stdout",
     "output_type": "stream",
     "text": [
      "True\n"
     ]
    }
   ],
   "source": [
    "print(len(long_phrase) > len(short_phrase))"
   ]
  },
  {
   "cell_type": "markdown",
   "metadata": {},
   "source": [
    "**Задание 2**. Дано значение объема файла в байтах (*в мегабайте 2^20 байт*). Напишите перевод этого значения в мегабайты в формате: \"*Объем файла равен 213.68Mb*\"."
   ]
  },
  {
   "cell_type": "code",
   "execution_count": 3,
   "metadata": {},
   "outputs": [
    {
     "name": "stdout",
     "output_type": "stream",
     "text": [
      "Введите объем в байтах: 79211775\n",
      "Объем файла равен  75.54 Mb\n"
     ]
    }
   ],
   "source": [
    "user_input = int(input('Введите объем в байтах: '))\n",
    "print('Объем файла равен ', round(user_input/(2**20),2),'Mb')"
   ]
  },
  {
   "cell_type": "markdown",
   "metadata": {},
   "source": [
    "**Задание 3**. Разработать приложение для определения знака зодиака по дате рождения. Пример:\n",
    "\n",
    "Введите месяц: март\n",
    "\n",
    "Введите число: 6\n",
    "\n",
    "Вывод:\n",
    "Рыбы\n",
    "\n",
    "\n",
    "***Даты знаков зодиака***\n",
    "* 21 марта – 20 апреля Овен\n",
    "* 21 апреля – 21 мая Телец\n",
    "* 22 мая – 21 июня Близнецы\n",
    "* 22 июня – 22 июля Рак\n",
    "* 23 июля – 21 августа Лев\n",
    "* 22 августа – 23 сентября Дева\n",
    "* 24 сентября – 23 октября Весы\n",
    "* 24 октября – 22 ноября Скорпион\n",
    "* 23 ноября – 22 декабря Стрелец\n",
    "* 23 декабря – 20 января Козерог\n",
    "* 21 января – 19 февраля Водолей\n",
    "* 20 февраля – 20 марта Рыбы"
   ]
  },
  {
   "cell_type": "code",
   "execution_count": 4,
   "metadata": {},
   "outputs": [
    {
     "name": "stdout",
     "output_type": "stream",
     "text": [
      "Введите месяц: февраль\n",
      "Введите число: 6\n",
      "Водолей\n"
     ]
    }
   ],
   "source": [
    "user_input_mounth = input('Введите месяц: ')\n",
    "user_input_day = int(input('Введите число: '))\n",
    "\n",
    "if user_input_mounth == 'март' and user_input_day >= 21 or user_input_mounth == 'апрель' and user_input_day < 21:\n",
    "    print('Овен')\n",
    "elif user_input_mounth == 'апрель' and user_input_day >= 21 or user_input_mounth == 'май' and user_input_day < 22:\n",
    "    print('Телец')\n",
    "elif user_input_mounth == 'май' and user_input_day >= 22 or user_input_mounth == 'июнь' and user_input_day < 22:\n",
    "    print('Близнецы')\n",
    "elif user_input_mounth == 'июнь' and user_input_day >= 22 or user_input_mounth == 'июль' and user_input_day < 23:\n",
    "    print('Рак')\n",
    "elif user_input_mounth == 'июль' and user_input_day >= 23 or user_input_mounth == 'август' and user_input_day < 22:\n",
    "    print('Лев')    \n",
    "elif user_input_mounth == 'август' and user_input_day >= 22 or user_input_mounth == 'сентябрь' and user_input_day < 24:\n",
    "    print('Дева')\n",
    "elif user_input_mounth == 'сентябрь' and user_input_day >= 24 or user_input_mounth == 'октябрь' and user_input_day < 24:\n",
    "    print('Весы')\n",
    "elif user_input_mounth == 'октябрь' and user_input_day >= 24 or user_input_mounth == 'ноябрь' and user_input_day < 23:\n",
    "    print('Скорпион')\n",
    "elif user_input_mounth == 'ноябрь' and user_input_day >= 23 or user_input_mounth == 'декабрь' and user_input_day < 23:\n",
    "    print('Стрелец')\n",
    "elif user_input_mounth == 'декабрь' and user_input_day >= 23 or user_input_mounth == 'январь' and user_input_day < 21:\n",
    "    print('Козерог')\n",
    "elif user_input_mounth == 'январь' and user_input_day >= 21 or user_input_mounth == 'февраль' and user_input_day < 20:\n",
    "    print('Водолей')    \n",
    "elif user_input_mounth == 'февраль' and user_input_day >= 20 or user_input_mounth == 'март' and user_input_day < 21:\n",
    "    print('Рыбы')\n",
    "else:\n",
    "    print('Неверные данные')"
   ]
  },
  {
   "cell_type": "markdown",
   "metadata": {},
   "source": [
    "**Задание 4**. Нужно разработать приложение для финансового планирования.\n",
    "Приложение учитывает сколько уходит на ипотеку, \"на жизнь\" и сколько нужно отложить на пенсию.\n",
    "Пользователь вводит:\n",
    "- заработанную плату в месяц.\n",
    "- сколько процентов от ЗП уходит на ипотеку.\n",
    "- сколько процентов от ЗП уходит \"на жизнь\".\n",
    "- сколько раз приходит премия в год.\n",
    "\n",
    "Остальная часть заработанной платы откладывается на пенсию.\n",
    "\n",
    "Также пользователю приходит премия в размере зарплаты, от которой половина уходит на отпуск, а вторая половина откладывается.\n",
    "\n",
    "Программа должна учитывать сколько премий было в год.\n",
    "\n",
    "Нужно вывести сколько денег тратит пользователь на ипотеку и сколько он накопит за год.\n",
    "\n",
    "Пример:\n",
    "\n",
    "Введите заработанную плату в месяц: 100000\n",
    "\n",
    "Введите сколько процентов уходит на ипотеку: 30\n",
    "\n",
    "Введите сколько процентов уходит на жизнь: 50\n",
    "\n",
    "Введите количество премий за год: 2\n",
    "\n",
    "Вывод:\n",
    "На ипотеку было потрачено: 360000 рублей\n",
    "Было накоплено: 340000 рублей"
   ]
  },
  {
   "cell_type": "code",
   "execution_count": 5,
   "metadata": {},
   "outputs": [
    {
     "name": "stdout",
     "output_type": "stream",
     "text": [
      "Введите заработную плату в месяц: 100000\n",
      "Введите сколько процентов уходит на ипотеку: 30\n",
      "Введите сколько процентов уходит на \"жизнь\": 50\n",
      "Введите количество премий за год: 2\n",
      "На ипотеку было потрачено: 360000 рублей. Было накоплено: 340000 рублей.\n"
     ]
    }
   ],
   "source": [
    "user_input_wade = int(input('Введите заработную плату в месяц: '))\n",
    "user_input_hypothec = int(input('Введите сколько процентов уходит на ипотеку: '))\n",
    "user_input_life = int(input('Введите сколько процентов уходит на \"жизнь\": '))\n",
    "user_input_premium = int(input('Введите количество премий за год: '))\n",
    "\n",
    "pay_hypothec = user_input_wade * 12 * user_input_hypothec / 100 # расчет платы за ипотеку\n",
    "pay_life = user_input_wade * 12 * user_input_life / 100         # расчет текущих расходов\n",
    "premium = user_input_wade * user_input_premium                  # расчет суммы премии\n",
    "\n",
    "capital = user_input_wade * 12 - pay_hypothec - pay_life + premium / 2\n",
    "\n",
    "print('На ипотеку было потрачено:', round(pay_hypothec), 'рублей.', 'Было накоплено:', round(capital), 'рублей.')"
   ]
  }
 ],
 "metadata": {
  "kernelspec": {
   "display_name": "Python 3",
   "language": "python",
   "name": "python3"
  },
  "language_info": {
   "codemirror_mode": {
    "name": "ipython",
    "version": 3
   },
   "file_extension": ".py",
   "mimetype": "text/x-python",
   "name": "python",
   "nbconvert_exporter": "python",
   "pygments_lexer": "ipython3",
   "version": "3.7.6"
  }
 },
 "nbformat": 4,
 "nbformat_minor": 2
}
